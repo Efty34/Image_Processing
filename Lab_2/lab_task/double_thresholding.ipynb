{
 "cells": [
  {
   "cell_type": "code",
   "execution_count": 115,
   "id": "e1e84f75-b4f9-42bf-aeac-9580e76255e1",
   "metadata": {},
   "outputs": [],
   "source": [
    "import cv2\n",
    "import numpy as np"
   ]
  },
  {
   "cell_type": "code",
   "execution_count": 116,
   "id": "d12f58e4-8a8e-42e2-956c-9fdc8342a4ec",
   "metadata": {},
   "outputs": [],
   "source": [
    "lena=cv2.imread(\"../assets/Lena.jpg\", 0)\n",
    "\n",
    "cv2.imshow(\"lena\", lena)\n",
    "\n",
    "cv2.waitKey(0)\n",
    "cv2.destroyAllWindows()"
   ]
  },
  {
   "cell_type": "code",
   "execution_count": 117,
   "id": "764b197a-8d8d-4ce9-8dae-b75990cf57c3",
   "metadata": {},
   "outputs": [],
   "source": [
    "def gaussianFunction(x,y,sigma):\n",
    "    return (1/(2*np.pi*sigma**2))*np.exp(-(x**2 + y**2) /(2*sigma**2))"
   ]
  },
  {
   "cell_type": "code",
   "execution_count": 118,
   "id": "c30b8abb",
   "metadata": {},
   "outputs": [
    {
     "name": "stdout",
     "output_type": "stream",
     "text": [
      "[[-2.79691995e+12 -2.27156403e+13 -5.09022183e+13  0.00000000e+00\n",
      "   5.09022183e+13  2.27156403e+13  2.79691995e+12]\n",
      " [-3.40734604e+13 -2.76733150e+14 -6.20115968e+14  0.00000000e+00\n",
      "   6.20115968e+14  2.76733150e+14  3.40734604e+13]\n",
      " [-1.52706655e+14 -1.24023194e+15 -2.77916695e+15  0.00000000e+00\n",
      "   2.77916695e+15  1.24023194e+15  1.52706655e+14]\n",
      " [-2.51770710e+14 -2.04479677e+15 -4.58207167e+15  0.00000000e+00\n",
      "   4.58207167e+15  2.04479677e+15  2.51770710e+14]\n",
      " [-1.52706655e+14 -1.24023194e+15 -2.77916695e+15  0.00000000e+00\n",
      "   2.77916695e+15  1.24023194e+15  1.52706655e+14]\n",
      " [-3.40734604e+13 -2.76733150e+14 -6.20115968e+14  0.00000000e+00\n",
      "   6.20115968e+14  2.76733150e+14  3.40734604e+13]\n",
      " [-2.79691995e+12 -2.27156403e+13 -5.09022183e+13  0.00000000e+00\n",
      "   5.09022183e+13  2.27156403e+13  2.79691995e+12]]\n",
      "[[-2.79691995e+12 -2.27156403e+13 -5.09022183e+13  0.00000000e+00\n",
      "   5.09022183e+13  2.27156403e+13  2.79691995e+12]\n",
      " [-3.40734604e+13 -2.76733150e+14 -6.20115968e+14  0.00000000e+00\n",
      "   6.20115968e+14  2.76733150e+14  3.40734604e+13]\n",
      " [-1.52706655e+14 -1.24023194e+15 -2.77916695e+15  0.00000000e+00\n",
      "   2.77916695e+15  1.24023194e+15  1.52706655e+14]\n",
      " [-2.51770710e+14 -2.04479677e+15 -4.58207167e+15  0.00000000e+00\n",
      "   4.58207167e+15  2.04479677e+15  2.51770710e+14]\n",
      " [-1.52706655e+14 -1.24023194e+15 -2.77916695e+15  0.00000000e+00\n",
      "   2.77916695e+15  1.24023194e+15  1.52706655e+14]\n",
      " [-3.40734604e+13 -2.76733150e+14 -6.20115968e+14  0.00000000e+00\n",
      "   6.20115968e+14  2.76733150e+14  3.40734604e+13]\n",
      " [-2.79691995e+12 -2.27156403e+13 -5.09022183e+13  0.00000000e+00\n",
      "   5.09022183e+13  2.27156403e+13  2.79691995e+12]]\n",
      "[[ 1.71072676e+12  2.08409184e+13  9.34025163e+13  1.53994715e+14\n",
      "   9.34025163e+13  2.08409184e+13  1.71072676e+12]\n",
      " [ 1.38939456e+13  1.69262909e+14  7.58583727e+14  1.25069313e+15\n",
      "   7.58583727e+14  1.69262909e+14  1.38939456e+13]\n",
      " [ 3.11341721e+13  3.79291864e+14  1.69986820e+15  2.80260886e+15\n",
      "   1.69986820e+15  3.79291864e+14  3.11341721e+13]\n",
      " [-0.00000000e+00 -0.00000000e+00 -0.00000000e+00 -0.00000000e+00\n",
      "  -0.00000000e+00 -0.00000000e+00 -0.00000000e+00]\n",
      " [-3.11341721e+13 -3.79291864e+14 -1.69986820e+15 -2.80260886e+15\n",
      "  -1.69986820e+15 -3.79291864e+14 -3.11341721e+13]\n",
      " [-1.38939456e+13 -1.69262909e+14 -7.58583727e+14 -1.25069313e+15\n",
      "  -7.58583727e+14 -1.69262909e+14 -1.38939456e+13]\n",
      " [-1.71072676e+12 -2.08409184e+13 -9.34025163e+13 -1.53994715e+14\n",
      "  -9.34025163e+13 -2.08409184e+13 -1.71072676e+12]]\n"
     ]
    }
   ],
   "source": [
    "def gaussianKernel_x(size, sigma):\n",
    "\n",
    "    k = size // 2\n",
    "    coords = np.arange(-k, k + 1)\n",
    "    x,y = np.meshgrid(coords, coords)\n",
    "    gaussval = gaussianFunction(x, y, sigma)\n",
    "    kernel = -(x / sigma**2) * gaussval\n",
    "    kernel /= np.sum(kernel)\n",
    "\n",
    "    return kernel\n",
    "\n",
    "def gaussianKernel_y(size, sigma):\n",
    "   \n",
    "    k = size // 2\n",
    "    coords = np.arange(-k, k + 1)\n",
    "    x,y = np.meshgrid(coords, coords)\n",
    "    gaussval = gaussianFunction(x, y, sigma)\n",
    "    kernel = -(y / sigma**2) * gaussval\n",
    "    kernel /= np.sum(kernel)\n",
    "\n",
    "    return kernel\n",
    "            \n",
    "\n",
    "gaussian_kernel_x=gaussianKernel_x(7, 1)\n",
    "gaussian_kernel_y=gaussianKernel_y(7, 1)\n",
    "\n",
    "\n",
    "print(gaussian_kernel_x)\n",
    "\n",
    "\n",
    "gaussian_kernel_x=gaussianKernel_x(7, 1)\n",
    "gaussian_kernel_y=gaussianKernel_y(7, 1)\n",
    "\n",
    "\n",
    "print(gaussian_kernel_x)\n",
    "\n",
    "print(gaussian_kernel_y)"
   ]
  },
  {
   "cell_type": "code",
   "execution_count": 119,
   "id": "3c2871c5",
   "metadata": {},
   "outputs": [
    {
     "name": "stdout",
     "output_type": "stream",
     "text": [
      "Integer Kernel X:\n",
      " [[  0   0   0   0   0   0   0]\n",
      " [  0  -2  -3   0   3   2   0]\n",
      " [ -1  -7 -15   0  15   7   1]\n",
      " [ -1 -11 -25   0  25  11   1]\n",
      " [ -1  -7 -15   0  15   7   1]\n",
      " [  0  -2  -3   0   3   2   0]\n",
      " [  0   0   0   0   0   0   0]]\n",
      "Integer Kernel Y:\n",
      " [[  0   0   1   1   1   0   0]\n",
      " [  0   2   7  11   7   2   0]\n",
      " [  0   3  15  25  15   3   0]\n",
      " [  0   0   0   0   0   0   0]\n",
      " [  0  -3 -15 -25 -15  -3   0]\n",
      " [  0  -2  -7 -11  -7  -2   0]\n",
      " [  0   0  -1  -1  -1   0   0]]\n",
      "Sum of Integer Kernel X: 0\n",
      "Sum of Integer Kernel Y: 0\n"
     ]
    }
   ],
   "source": [
    "def int_kernel(kernel, min_val, max_val):\n",
    "\n",
    "    k_min = np.min(kernel)\n",
    "    k_max = np.max(kernel)\n",
    "    norm_kernel = (kernel - k_min) / (k_max - k_min) \n",
    "    int_kernel = norm_kernel * (max_val - min_val) + min_val\n",
    "    int_kernel = np.round(int_kernel).astype(int)\n",
    "    return int_kernel\n",
    "\n",
    "x_int = int_kernel(gaussian_kernel_x, -25, 25)\n",
    "y_int = int_kernel(gaussian_kernel_y, -25, 25)\n",
    "\n",
    "\n",
    "print(\"Integer Kernel X:\\n\", x_int)\n",
    "print(\"Integer Kernel Y:\\n\", y_int)\n",
    "\n",
    "print(\"Sum of Integer Kernel X:\", np.sum(x_int))\n",
    "print(\"Sum of Integer Kernel Y:\", np.sum(y_int))"
   ]
  },
  {
   "cell_type": "code",
   "execution_count": 120,
   "id": "e3d27cdf-af36-4016-8ff7-ccf10c278563",
   "metadata": {},
   "outputs": [],
   "source": [
    "def convolve2D(image : np.array ,  kernel : np.array) -> np.array:\n",
    "    kernel = np.flip(kernel)\n",
    "    ih, iw = image.shape\n",
    "    kh , kw = kernel.shape\n",
    "    border_size = kh//2\n",
    "    img_bordered = cv2.copyMakeBorder(image, border_size, border_size, border_size, border_size, cv2.BORDER_CONSTANT)\n",
    "    bh,bw = img_bordered.shape\n",
    "    result = np.zeros((ih, iw), dtype=np.float32)\n",
    "    for i in range(ih):\n",
    "        for j in range(iw):\n",
    "            region = img_bordered[i:i+kh ,j:j+kw]\n",
    "            mul = np.multiply(region,kernel)\n",
    "            val = np.sum(mul)\n",
    "            result[i,j] = val  \n",
    "    return result "
   ]
  },
  {
   "cell_type": "code",
   "execution_count": 121,
   "id": "7a5c71df-9594-4de4-aa48-9f5265a5ad0c",
   "metadata": {},
   "outputs": [],
   "source": [
    "convo_x = convolve2D(lena, gaussian_kernel_x)\n",
    "norm_x = np.round(cv2.normalize(convo_x, None, 0, 255, cv2.NORM_MINMAX)).astype(np.uint8)"
   ]
  },
  {
   "cell_type": "code",
   "execution_count": 122,
   "id": "35bc344f-5798-4e7e-a7d0-fca3e07575a0",
   "metadata": {},
   "outputs": [],
   "source": [
    "cv2.imshow(\"Convo_X\", convo_x)\n",
    "cv2.imshow(\"norm_x\", norm_x)\n",
    "\n",
    "cv2.waitKey(0)\n",
    "cv2.destroyAllWindows()"
   ]
  },
  {
   "cell_type": "code",
   "execution_count": 123,
   "id": "6e627a8e-c825-4427-a725-9e109bc8a0a5",
   "metadata": {},
   "outputs": [],
   "source": [
    "convo_y = convolve2D(lena, gaussian_kernel_y)\n",
    "norm_y = np.round(cv2.normalize(convo_y, None, 0, 255, cv2.NORM_MINMAX)).astype(np.uint8)"
   ]
  },
  {
   "cell_type": "code",
   "execution_count": 124,
   "id": "017ea947-a21a-4b09-90ec-27a02254ec61",
   "metadata": {},
   "outputs": [],
   "source": [
    "cv2.imshow(\"Convo_y\", convo_y)\n",
    "cv2.imshow(\"norm_y\", norm_y)\n",
    "\n",
    "cv2.waitKey(0)\n",
    "cv2.destroyAllWindows()"
   ]
  },
  {
   "cell_type": "code",
   "execution_count": 125,
   "id": "079bf884-e97b-4958-babd-a71a92011863",
   "metadata": {},
   "outputs": [],
   "source": [
    "gradient_mag = cv2.magnitude(convo_x.astype(np.float32), convo_y.astype(np.float32) )\n",
    "\n",
    "grad_norm = np.round(cv2.normalize(gradient_mag, None, 0, 255, cv2.NORM_MINMAX)).astype(np.uint8)\n",
    "\n",
    "cv2.imshow(\"Grad\", gradient_mag)\n",
    "cv2.imshow(\"Grad Norm\", grad_norm)\n",
    "\n",
    "cv2.waitKey(0)\n",
    "cv2.destroyAllWindows()"
   ]
  },
  {
   "cell_type": "code",
   "execution_count": 126,
   "id": "ec59c31b-7115-42d3-a4c5-06088c1dc168",
   "metadata": {},
   "outputs": [],
   "source": [
    "threshold_value=50\n",
    "_, binary_edges = cv2.threshold(grad_norm, threshold_value, 255, cv2.THRESH_BINARY)\n",
    "\n",
    "cv2.imshow(\"cv2 threshold\", binary_edges)\n",
    "cv2.waitKey(0)\n",
    "cv2.destroyAllWindows()"
   ]
  },
  {
   "cell_type": "code",
   "execution_count": 127,
   "id": "2f0a71d1-efc4-4f3c-8532-51855f72d668",
   "metadata": {},
   "outputs": [],
   "source": [
    "def double_threshold(image, low_thresh, high_thresh):\n",
    "    output = np.zeros_like(image, dtype=np.uint8)\n",
    "    output[image>=high_thresh]=255\n",
    "    output[image<low_thresh]=0\n",
    "    mask =(image >=low_thresh)&(image<high_thresh)\n",
    "    output[mask] = 128\n",
    "\n",
    "    return output\n",
    "    "
   ]
  },
  {
   "cell_type": "code",
   "execution_count": 128,
   "id": "e2735a54-0b48-4b4a-86d1-6f80386b6c7c",
   "metadata": {},
   "outputs": [],
   "source": [
    "double_t = double_threshold(grad_norm, 50, 150)\n",
    "\n",
    "cv2.imshow(\"double threshold threshold\", double_t)\n",
    "cv2.waitKey(0)\n",
    "cv2.destroyAllWindows()"
   ]
  }
 ],
 "metadata": {
  "kernelspec": {
   "display_name": "imgenv (3.12.4)",
   "language": "python",
   "name": "python3"
  },
  "language_info": {
   "codemirror_mode": {
    "name": "ipython",
    "version": 3
   },
   "file_extension": ".py",
   "mimetype": "text/x-python",
   "name": "python",
   "nbconvert_exporter": "python",
   "pygments_lexer": "ipython3",
   "version": "3.12.4"
  }
 },
 "nbformat": 4,
 "nbformat_minor": 5
}
