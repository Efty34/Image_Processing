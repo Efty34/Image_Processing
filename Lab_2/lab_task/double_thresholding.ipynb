{
 "cells": [
  {
   "cell_type": "code",
   "execution_count": 83,
   "id": "e1e84f75-b4f9-42bf-aeac-9580e76255e1",
   "metadata": {},
   "outputs": [],
   "source": [
    "import cv2\n",
    "import numpy as np"
   ]
  },
  {
   "cell_type": "code",
   "execution_count": 84,
   "id": "d12f58e4-8a8e-42e2-956c-9fdc8342a4ec",
   "metadata": {},
   "outputs": [],
   "source": [
    "lena=cv2.imread(\"./Lena.jpg\", 0)\n",
    "\n",
    "cv2.imshow(\"lena\", lena)\n",
    "\n",
    "cv2.waitKey(0)\n",
    "cv2.destroyAllWindows()"
   ]
  },
  {
   "cell_type": "code",
   "execution_count": 85,
   "id": "764b197a-8d8d-4ce9-8dae-b75990cf57c3",
   "metadata": {},
   "outputs": [],
   "source": [
    "def gaussianFuntion(x,y,sigma):\n",
    "    return (1/(2*np.pi*sigma**2))*np.exp(-(x**2 + y**2) /(sigma**2))\n",
    "    "
   ]
  },
  {
   "cell_type": "code",
   "execution_count": 86,
   "id": "cd7d8013-f07c-4273-8d0b-aab7177d484c",
   "metadata": {},
   "outputs": [
    {
     "name": "stdout",
     "output_type": "stream",
     "text": [
      "[[-1.2673601e+04 -1.5439606e+05 -6.9195519e+05 -1.1408411e+06\n",
      "  -6.9195519e+05 -1.5439606e+05 -1.2673601e+04]\n",
      " [-1.0293071e+05 -1.2539528e+06 -5.6198265e+06 -9.2655280e+06\n",
      "  -5.6198265e+06 -1.2539528e+06 -1.0293071e+05]\n",
      " [-2.3065172e+05 -2.8099132e+06 -1.2593158e+07 -2.0762606e+07\n",
      "  -1.2593158e+07 -2.8099132e+06 -2.3065172e+05]\n",
      " [ 0.0000000e+00  0.0000000e+00  0.0000000e+00  0.0000000e+00\n",
      "   0.0000000e+00  0.0000000e+00  0.0000000e+00]\n",
      " [ 2.3065172e+05  2.8099132e+06  1.2593158e+07  2.0762606e+07\n",
      "   1.2593158e+07  2.8099132e+06  2.3065172e+05]\n",
      " [ 1.0293071e+05  1.2539528e+06  5.6198265e+06  9.2655280e+06\n",
      "   5.6198265e+06  1.2539528e+06  1.0293071e+05]\n",
      " [ 1.2673601e+04  1.5439606e+05  6.9195519e+05  1.1408411e+06\n",
      "   6.9195519e+05  1.5439606e+05  1.2673601e+04]]\n",
      "[[-1.2673601e+04 -1.0293071e+05 -2.3065172e+05  0.0000000e+00\n",
      "   2.3065172e+05  1.0293071e+05  1.2673601e+04]\n",
      " [-1.5439606e+05 -1.2539528e+06 -2.8099132e+06  0.0000000e+00\n",
      "   2.8099132e+06  1.2539528e+06  1.5439606e+05]\n",
      " [-6.9195519e+05 -5.6198265e+06 -1.2593158e+07  0.0000000e+00\n",
      "   1.2593158e+07  5.6198265e+06  6.9195519e+05]\n",
      " [-1.1408411e+06 -9.2655280e+06 -2.0762606e+07  0.0000000e+00\n",
      "   2.0762606e+07  9.2655280e+06  1.1408411e+06]\n",
      " [-6.9195519e+05 -5.6198265e+06 -1.2593158e+07  0.0000000e+00\n",
      "   1.2593158e+07  5.6198265e+06  6.9195519e+05]\n",
      " [-1.5439606e+05 -1.2539528e+06 -2.8099132e+06  0.0000000e+00\n",
      "   2.8099132e+06  1.2539528e+06  1.5439606e+05]\n",
      " [-1.2673601e+04 -1.0293071e+05 -2.3065172e+05  0.0000000e+00\n",
      "   2.3065172e+05  1.0293071e+05  1.2673601e+04]]\n"
     ]
    }
   ],
   "source": [
    "def gaussianFunction(x, y, sigma):\n",
    "    return (1/(2 * np.pi * sigma**2))*np.exp(-(x**2 + y**2)/(2 * sigma**2))\n",
    "\n",
    "def gaussianKernel_x(size, sigma):\n",
    "    k=size//2\n",
    "    kernel = np.zeros((size, size), dtype=np.float32)\n",
    "    for i in range(size):\n",
    "        for j in range(size):\n",
    "            x = i - k\n",
    "            y = j - k\n",
    "            gaussValue = gaussianFunction(x, y, sigma)\n",
    "            kernel[i, j] = -(x / sigma**2) * gaussValue\n",
    "    kernel /= np.sum(kernel)\n",
    "    return kernel\n",
    "\n",
    "def gaussianKernel_y(size, sigma):\n",
    "    k = size // 2\n",
    "    kernel = np.zeros((size, size), dtype=np.float32)\n",
    "    for i in range(size):\n",
    "        for j in range(size):\n",
    "            x = i-k\n",
    "            y = j-k\n",
    "            gaussValue = gaussianFunction(x, y, sigma)\n",
    "            kernel[i, j] = -(y / sigma**2) * gaussValue\n",
    "    kernel /= np.sum(kernel)\n",
    "    return kernel\n",
    "\n",
    "gaussian_kernel_x=gaussianKernel_x(7, 1)\n",
    "gaussian_kernel_y=gaussianKernel_y(7, 1)\n",
    "\n",
    "print(gaussian_kernel_x)\n",
    "\n",
    "print(gaussian_kernel_y)\n"
   ]
  },
  {
   "cell_type": "code",
   "execution_count": 87,
   "id": "e3d27cdf-af36-4016-8ff7-ccf10c278563",
   "metadata": {},
   "outputs": [],
   "source": [
    "def convolve2D(image : np.array ,  kernel : np.array) -> np.array:\n",
    "    kernel = np.flip(kernel)\n",
    "    ih, iw = image.shape\n",
    "    kh , kw = kernel.shape\n",
    "    border_size = kh//2\n",
    "    img_bordered = cv2.copyMakeBorder(image, border_size, border_size, border_size, border_size, cv2.BORDER_CONSTANT)\n",
    "    bh,bw = img_bordered.shape\n",
    "    result = np.zeros((ih, iw), dtype=np.float32)\n",
    "    for i in range(ih):\n",
    "        for j in range(iw):\n",
    "            region = img_bordered[i:i+kh ,j:j+kw]\n",
    "            mul = np.multiply(region,kernel)\n",
    "            val = np.sum(mul)\n",
    "            result[i,j] = val  \n",
    "    return result "
   ]
  },
  {
   "cell_type": "code",
   "execution_count": 88,
   "id": "7a5c71df-9594-4de4-aa48-9f5265a5ad0c",
   "metadata": {},
   "outputs": [],
   "source": [
    "convo_x = convolve2D(lena, gaussian_kernel_x)\n",
    "norm_x = np.round(cv2.normalize(convo_x, None, 0, 255, cv2.NORM_MINMAX)).astype(np.uint8)"
   ]
  },
  {
   "cell_type": "code",
   "execution_count": 89,
   "id": "35bc344f-5798-4e7e-a7d0-fca3e07575a0",
   "metadata": {},
   "outputs": [],
   "source": [
    "cv2.imshow(\"Convo_X\", convo_x)\n",
    "cv2.imshow(\"norm_x\", norm_x)\n",
    "\n",
    "cv2.waitKey(0)\n",
    "cv2.destroyAllWindows()"
   ]
  },
  {
   "cell_type": "code",
   "execution_count": 90,
   "id": "6e627a8e-c825-4427-a725-9e109bc8a0a5",
   "metadata": {},
   "outputs": [],
   "source": [
    "convo_y = convolve2D(lena, gaussian_kernel_y)\n",
    "norm_y = np.round(cv2.normalize(convo_y, None, 0, 255, cv2.NORM_MINMAX)).astype(np.uint8)"
   ]
  },
  {
   "cell_type": "code",
   "execution_count": 91,
   "id": "017ea947-a21a-4b09-90ec-27a02254ec61",
   "metadata": {},
   "outputs": [],
   "source": [
    "cv2.imshow(\"Convo_y\", convo_y)\n",
    "cv2.imshow(\"norm_y\", norm_y)\n",
    "\n",
    "cv2.waitKey(0)\n",
    "cv2.destroyAllWindows()"
   ]
  },
  {
   "cell_type": "code",
   "execution_count": 92,
   "id": "079bf884-e97b-4958-babd-a71a92011863",
   "metadata": {},
   "outputs": [],
   "source": [
    "gradient_mag = cv2.magnitude(convo_x.astype(np.float32), convo_y.astype(np.float32) )\n",
    "\n",
    "grad_norm = np.round(cv2.normalize(gradient_mag, None, 0, 255, cv2.NORM_MINMAX)).astype(np.uint8)\n",
    "\n",
    "cv2.imshow(\"Grad\", gradient_mag)\n",
    "cv2.imshow(\"Grad Norm\", grad_norm)\n",
    "\n",
    "cv2.waitKey(0)\n",
    "cv2.destroyAllWindows()"
   ]
  },
  {
   "cell_type": "code",
   "execution_count": 93,
   "id": "ec59c31b-7115-42d3-a4c5-06088c1dc168",
   "metadata": {},
   "outputs": [],
   "source": [
    "threshold_value=50\n",
    "_, binary_edges = cv2.threshold(grad_norm, threshold_value, 255, cv2.THRESH_BINARY)\n",
    "\n",
    "cv2.imshow(\"cv2 threshold\", binary_edges)\n",
    "cv2.waitKey(0)\n",
    "cv2.destroyAllWindows()"
   ]
  },
  {
   "cell_type": "code",
   "execution_count": 94,
   "id": "2f0a71d1-efc4-4f3c-8532-51855f72d668",
   "metadata": {},
   "outputs": [],
   "source": [
    "def double_threshold(image, low_thresh, high_thresh):\n",
    "    output = np.zeros_like(image, dtype=np.uint8)\n",
    "    output[image>=high_thresh]=255\n",
    "    output[image<low_thresh]=0\n",
    "    mask =(image >=low_thresh)&(image<high_thresh)\n",
    "    output[mask] = 128\n",
    "\n",
    "    return output\n",
    "    "
   ]
  },
  {
   "cell_type": "code",
   "execution_count": 95,
   "id": "e2735a54-0b48-4b4a-86d1-6f80386b6c7c",
   "metadata": {},
   "outputs": [],
   "source": [
    "double_t = double_threshold(grad_norm, 50, 150)\n",
    "\n",
    "cv2.imshow(\"double threshold threshold\", double_t)\n",
    "cv2.waitKey(0)\n",
    "cv2.destroyAllWindows()"
   ]
  },
  {
   "cell_type": "code",
   "execution_count": null,
   "id": "cb415e7f-0679-4683-bf63-5a0fa676ff5c",
   "metadata": {},
   "outputs": [],
   "source": []
  }
 ],
 "metadata": {
  "kernelspec": {
   "display_name": "Python 3 (ipykernel)",
   "language": "python",
   "name": "python3"
  },
  "language_info": {
   "codemirror_mode": {
    "name": "ipython",
    "version": 3
   },
   "file_extension": ".py",
   "mimetype": "text/x-python",
   "name": "python",
   "nbconvert_exporter": "python",
   "pygments_lexer": "ipython3",
   "version": "3.13.5"
  }
 },
 "nbformat": 4,
 "nbformat_minor": 5
}
