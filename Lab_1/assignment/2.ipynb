{
 "cells": [
  {
   "cell_type": "code",
   "execution_count": 6,
   "id": "48875667",
   "metadata": {},
   "outputs": [],
   "source": [
    "import cv2\n",
    "import numpy as np\n",
    "from smoothing import gaussian_smoothing_kernel\n",
    "from sharpening import sharpening_kernel\n",
    "from convolution import apply_convolution\n",
    "import matplotlib.pyplot as plt"
   ]
  },
  {
   "cell_type": "code",
   "execution_count": 7,
   "id": "cd019247",
   "metadata": {},
   "outputs": [],
   "source": [
    "lena = cv2.imread('./Lena.jpg', 1)"
   ]
  },
  {
   "cell_type": "code",
   "execution_count": 8,
   "id": "44d0a9cb",
   "metadata": {},
   "outputs": [
    {
     "name": "stdout",
     "output_type": "stream",
     "text": [
      "(512, 512, 3)\n",
      "(512, 512, 3)\n",
      "(512, 512, 3)\n"
     ]
    }
   ],
   "source": [
    "lena_b = lena.copy()\n",
    "lena_b[:, :, 1] = 0\n",
    "lena_b[:, :, 2] = 0\n",
    "print(lena_b.shape)\n",
    "\n",
    "lena_g = lena.copy()\n",
    "lena_g[:, :, 0] = 0\n",
    "lena_g[:, :, 2] = 0\n",
    "print(lena_g.shape)\n",
    "\n",
    "lena_r = lena.copy()\n",
    "lena_r[:, :, 0] = 0\n",
    "lena_r[:, :, 1] = 0\n",
    "print(lena_r.shape)\n"
   ]
  },
  {
   "cell_type": "code",
   "execution_count": 9,
   "id": "95451a17",
   "metadata": {},
   "outputs": [],
   "source": [
    "cv2.imshow(\"Lena Blue Channel\", lena_b)\n",
    "cv2.imshow(\"Lena Green Channel\", lena_g)\n",
    "cv2.imshow(\"Lena Red Channel\", lena_r)\n",
    "\n",
    "\n",
    "cv2.waitKey(0)\n",
    "cv2.destroyAllWindows()"
   ]
  },
  {
   "cell_type": "code",
   "execution_count": null,
   "id": "ae295b45",
   "metadata": {},
   "outputs": [],
   "source": [
    "bc, gc, rc = cv2.split(lena)\n",
    "# Apply different kernels to each channel\n",
    "gaussian_kernel = gaussian_smoothing_kernel(5, 1.0)\n",
    "\n",
    "# Apply convolution on Blue channel with Gaussian smoothing\n",
    "blue_convo = apply_convolution(bc, gaussian_kernel)\n",
    "green_convo = apply_convolution(gc, gaussian_kernel)\n",
    "red_convo = apply_convolution(rc, gaussian_kernel)\n",
    "\n",
    "blue_result = blue_convo[\"norm_cropped\"]\n",
    "green_result = green_convo[\"norm_cropped\"]\n",
    "red_result = red_convo[\"norm_cropped\"]\n"
   ]
  },
  {
   "cell_type": "code",
   "execution_count": 11,
   "id": "362f657a",
   "metadata": {},
   "outputs": [],
   "source": [
    "cv2.imshow(\"Lena Blue Channel\", blue_result)\n",
    "cv2.imshow(\"Lena Green Channel\", green_result)\n",
    "cv2.imshow(\"Lena Red Channel\", red_result)\n",
    "\n",
    "mergerd = cv2.merge([blue_result, green_result, red_result])\n",
    "\n",
    "cv2.imshow(\"Merged Image\", mergerd)\n",
    "\n",
    "cv2.waitKey(0)\n",
    "cv2.destroyAllWindows() \n"
   ]
  }
 ],
 "metadata": {
  "kernelspec": {
   "display_name": "imgenv (3.12.4)",
   "language": "python",
   "name": "python3"
  },
  "language_info": {
   "name": "python",
   "version": "3.12.4"
  }
 },
 "nbformat": 4,
 "nbformat_minor": 5
}
