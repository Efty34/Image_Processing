{
 "cells": [
  {
   "cell_type": "code",
   "execution_count": 2,
   "id": "48875667",
   "metadata": {},
   "outputs": [],
   "source": [
    "import cv2\n",
    "import numpy as np\n",
    "from smoothing import gaussian_smoothing_kernel\n",
    "from sharpening import sharpening_kernel\n",
    "from convolution import apply_convolution\n",
    "import matplotlib.pyplot as plt"
   ]
  },
  {
   "cell_type": "code",
   "execution_count": 3,
   "id": "cd019247",
   "metadata": {},
   "outputs": [],
   "source": [
    "lena = cv2.imread('./Lena.jpg', 1)\n",
    "\n",
    "cv2.imshow('Original Image', lena)\n",
    "cv2.waitKey(0)\n",
    "cv2.destroyAllWindows()"
   ]
  },
  {
   "cell_type": "markdown",
   "id": "126637cf",
   "metadata": {},
   "source": [
    "## 2.a: Take an RGB image and apply convolution with each kernel, separately on each channel.\n"
   ]
  },
  {
   "cell_type": "code",
   "execution_count": 3,
   "id": "44d0a9cb",
   "metadata": {},
   "outputs": [
    {
     "name": "stdout",
     "output_type": "stream",
     "text": [
      "(512, 512, 3)\n",
      "(512, 512, 3)\n",
      "(512, 512, 3)\n"
     ]
    }
   ],
   "source": [
    "lena_b = lena.copy()\n",
    "lena_b[:, :, 1] = 0\n",
    "lena_b[:, :, 2] = 0\n",
    "print(lena_b.shape)\n",
    "\n",
    "lena_g = lena.copy()\n",
    "lena_g[:, :, 0] = 0\n",
    "lena_g[:, :, 2] = 0\n",
    "print(lena_g.shape)\n",
    "\n",
    "lena_r = lena.copy()\n",
    "lena_r[:, :, 0] = 0\n",
    "lena_r[:, :, 1] = 0\n",
    "print(lena_r.shape)\n"
   ]
  },
  {
   "cell_type": "code",
   "execution_count": 4,
   "id": "95451a17",
   "metadata": {},
   "outputs": [],
   "source": [
    "cv2.imshow(\"Lena Blue Channel\", lena_b)\n",
    "cv2.imshow(\"Lena Green Channel\", lena_g)\n",
    "cv2.imshow(\"Lena Red Channel\", lena_r)\n",
    "\n",
    "\n",
    "cv2.waitKey(0)\n",
    "cv2.destroyAllWindows()"
   ]
  },
  {
   "cell_type": "code",
   "execution_count": 5,
   "id": "ae295b45",
   "metadata": {},
   "outputs": [
    {
     "name": "stdout",
     "output_type": "stream",
     "text": [
      "(512, 512) (512, 512) (512, 512)\n"
     ]
    }
   ],
   "source": [
    "bc, gc, rc = cv2.split(lena)\n",
    "\n",
    "print(bc.shape, gc.shape, rc.shape)"
   ]
  },
  {
   "cell_type": "markdown",
   "id": "975191ff",
   "metadata": {},
   "source": [
    "- Gaussian Smoothing Kernel"
   ]
  },
  {
   "cell_type": "code",
   "execution_count": 6,
   "id": "fd7f8eee",
   "metadata": {},
   "outputs": [
    {
     "name": "stdout",
     "output_type": "stream",
     "text": [
      "[[0.00296902 0.01330621 0.02193823 0.01330621 0.00296902]\n",
      " [0.01330621 0.0596343  0.09832033 0.0596343  0.01330621]\n",
      " [0.02193823 0.09832033 0.16210282 0.09832033 0.02193823]\n",
      " [0.01330621 0.0596343  0.09832033 0.0596343  0.01330621]\n",
      " [0.00296902 0.01330621 0.02193823 0.01330621 0.00296902]]\n"
     ]
    }
   ],
   "source": [
    "smk = gaussian_smoothing_kernel(5, 1)\n",
    "\n",
    "print(smk)\n",
    "\n",
    "smooth_bc = apply_convolution(bc, smk)\n",
    "smooth_gc = apply_convolution(gc, smk)\n",
    "smooth_rc = apply_convolution(rc, smk)"
   ]
  },
  {
   "cell_type": "code",
   "execution_count": 7,
   "id": "6cb19d95",
   "metadata": {},
   "outputs": [],
   "source": [
    "border_img_bc = smooth_bc[\"border_img\"]\n",
    "convo_bc = smooth_bc[\"raw_result\"]\n",
    "norm_bc = smooth_bc[\"normalized\"]\n",
    "norm_cropped_bc = smooth_bc[\"final\"]\n",
    "\n",
    "border_img_gc = smooth_gc[\"border_img\"]\n",
    "convo_gc = smooth_gc[\"raw_result\"]\n",
    "norm_gc = smooth_gc[\"normalized\"]\n",
    "norm_cropped_gc = smooth_gc[\"final\"]\n",
    "\n",
    "border_img_rc = smooth_rc[\"border_img\"]\n",
    "convo_rc = smooth_rc[\"raw_result\"]\n",
    "norm_rc = smooth_rc[\"normalized\"]\n",
    "norm_cropped_rc = smooth_rc[\"final\"]\n",
    "\n",
    "intermediate = cv2.merge((norm_cropped_bc, norm_cropped_gc, norm_cropped_rc))\n",
    "final = np.round(cv2.normalize(intermediate, None, 0, 255, cv2.NORM_MINMAX)).astype(np.uint8)"
   ]
  },
  {
   "cell_type": "code",
   "execution_count": 8,
   "id": "b1e24686",
   "metadata": {},
   "outputs": [],
   "source": [
    "blue_only = np.zeros((norm_cropped_bc.shape[0], norm_cropped_bc.shape[1], 3), dtype=np.uint8)\n",
    "blue_only[:, :, 0] = 255 \n",
    "blue_only[:, :, 1] = 255-norm_cropped_bc\n",
    "blue_only[:, :, 2] = 255-norm_cropped_bc\n",
    "\n",
    "green_only = np.zeros((norm_cropped_bc.shape[0], norm_cropped_bc.shape[1], 3), dtype=np.uint8)\n",
    "green_only[:, :, 0] = 255-norm_cropped_gc\n",
    "green_only[:, :, 1] = 255\n",
    "green_only[:, :, 2] = 255-norm_cropped_gc\n",
    "\n",
    "red_only = np.zeros((norm_cropped_bc.shape[0], norm_cropped_bc.shape[1], 3), dtype=np.uint8)\n",
    "red_only[:, :, 0] = 255-norm_cropped_rc\n",
    "red_only[:, :, 1] = 255-norm_cropped_rc\n",
    "red_only[:, :, 2] = 255\n",
    "\n",
    "test = cv2.merge((norm_cropped_bc, norm_cropped_gc, norm_cropped_rc))\n",
    "\n",
    "cv2.imshow(\"Blue Channel Convolution Only\", blue_only)\n",
    "cv2.imshow(\"Green Channel Convolution Only\", green_only)\n",
    "cv2.imshow(\"Red Channel Convolution Only\", red_only)\n",
    "cv2.imshow(\"Original\", lena)\n",
    "cv2.imshow(\"Gaussian Smooth\", test)\n",
    "\n",
    "cv2.waitKey(0)\n",
    "cv2.destroyAllWindows()"
   ]
  },
  {
   "cell_type": "markdown",
   "id": "34a54b6d",
   "metadata": {},
   "source": [
    "- Gaussian Sharpening (LoG) Kernel"
   ]
  },
  {
   "cell_type": "code",
   "execution_count": 17,
   "id": "429c8df9",
   "metadata": {},
   "outputs": [],
   "source": [
    "bc2, gc2, rc2 = cv2.split(lena)"
   ]
  },
  {
   "cell_type": "code",
   "execution_count": 18,
   "id": "a93e7f76",
   "metadata": {},
   "outputs": [
    {
     "name": "stdout",
     "output_type": "stream",
     "text": [
      "[[ 0.00234583  0.00677597  0.01132721  0.0129268   0.01132721  0.00677597\n",
      "   0.00234583]\n",
      " [ 0.00677597  0.01428519  0.01216823  0.00626028  0.01216823  0.01428519\n",
      "   0.00677597]\n",
      " [ 0.01132721  0.01216823 -0.02518025 -0.05837777 -0.02518025  0.01216823\n",
      "   0.01132721]\n",
      " [ 0.0129268   0.00626028 -0.05837777 -0.11144914 -0.05837777  0.00626028\n",
      "   0.0129268 ]\n",
      " [ 0.01132721  0.01216823 -0.02518025 -0.05837777 -0.02518025  0.01216823\n",
      "   0.01132721]\n",
      " [ 0.00677597  0.01428519  0.01216823  0.00626028  0.01216823  0.01428519\n",
      "   0.00677597]\n",
      " [ 0.00234583  0.00677597  0.01132721  0.0129268   0.01132721  0.00677597\n",
      "   0.00234583]]\n"
     ]
    }
   ],
   "source": [
    "sh_k = sharpening_kernel(7,1.3)\n",
    "print(sh_k)"
   ]
  },
  {
   "cell_type": "code",
   "execution_count": 19,
   "id": "09f6c2d7",
   "metadata": {},
   "outputs": [],
   "source": [
    "bc2_m_c = apply_convolution(bc2, sh_k)\n",
    "\n",
    "raw1 = bc2_m_c[\"raw_result\"]\n",
    "\n",
    "# Create a blue outline on white background\n",
    "blue_outline = np.ones((raw1.shape[0], raw1.shape[1], 3), dtype=np.uint8) * 255 \n",
    "blue_outline[:, :, 0] = 255 \n",
    "blue_outline[:, :, 1] = raw1      \n",
    "blue_outline[:, :, 2] = raw1    \n",
    "\n",
    "cv2.imshow(\"Blue Channel Convolution\", raw1)\n",
    "cv2.imshow(\"Blue Outline on White\", blue_outline)\n",
    "cv2.waitKey(0)\n",
    "cv2.destroyAllWindows()"
   ]
  },
  {
   "cell_type": "code",
   "execution_count": 20,
   "id": "ee3ea184",
   "metadata": {},
   "outputs": [],
   "source": [
    "gc2_m_c = apply_convolution(gc2, sh_k)\n",
    "\n",
    "raw2 = gc2_m_c[\"raw_result\"]\n",
    "\n",
    "# Create a blue outline on white background\n",
    "freen_outline = np.zeros((raw2.shape[0], raw2.shape[1], 3), dtype=np.uint8)\n",
    "freen_outline[:, :, 0] = raw2\n",
    "freen_outline[:, :, 1] = 255  \n",
    "freen_outline[:, :, 2] = raw2\n",
    "\n",
    "cv2.imshow(\"Green Channel Convolution\", raw2)\n",
    "cv2.imshow(\"Green Outline on White\", freen_outline)\n",
    "cv2.waitKey(0)\n",
    "cv2.destroyAllWindows()"
   ]
  },
  {
   "cell_type": "code",
   "execution_count": 21,
   "id": "56cd25ca",
   "metadata": {},
   "outputs": [],
   "source": [
    "rc2_m_c = apply_convolution(rc2, sh_k)\n",
    "\n",
    "raw3 = rc2_m_c[\"raw_result\"]\n",
    "\n",
    "# Create a blue outline on white background\n",
    "red_outline = np.zeros((raw3.shape[0], raw3.shape[1], 3), dtype=np.uint8)\n",
    "red_outline[:, :, 0] = raw3\n",
    "red_outline[:, :, 1] = raw3\n",
    "red_outline[:, :, 2] = 255\n",
    "\n",
    "cv2.imshow(\"Red Channel Convolution\", raw3)\n",
    "cv2.imshow(\"Red Outline on White\", red_outline)\n",
    "cv2.waitKey(0)\n",
    "cv2.destroyAllWindows()"
   ]
  },
  {
   "cell_type": "code",
   "execution_count": 22,
   "id": "1e8bdd5a",
   "metadata": {},
   "outputs": [],
   "source": [
    "bgr_merge = cv2.merge((raw1, raw2, raw3))\n",
    "\n",
    "cv2.imshow(\"Merged Outline Image\", bgr_merge)\n",
    "cv2.waitKey(0)\n",
    "cv2.destroyAllWindows()"
   ]
  },
  {
   "cell_type": "markdown",
   "id": "8877d3d2",
   "metadata": {},
   "source": [
    "## 2.b : Convert the RGB image to HSV mode and apply convolution with each kernel, separately on each channel of HSV space."
   ]
  },
  {
   "cell_type": "code",
   "execution_count": 4,
   "id": "8e723ce5",
   "metadata": {},
   "outputs": [],
   "source": [
    "lena_hsv = cv2.cvtColor(lena, cv2.COLOR_BGR2HSV)\n",
    "\n",
    "cv2.imshow(\"Lena HSV\", lena_hsv)\n",
    "\n",
    "cv2.waitKey(0)\n",
    "cv2.destroyAllWindows()"
   ]
  },
  {
   "cell_type": "code",
   "execution_count": 5,
   "id": "ee4f1e2f",
   "metadata": {},
   "outputs": [
    {
     "name": "stdout",
     "output_type": "stream",
     "text": [
      "(512, 512)\n",
      "(512, 512)\n",
      "(512, 512)\n"
     ]
    }
   ],
   "source": [
    "h, s, v = cv2.split(lena_hsv)\n",
    "\n",
    "print(h.shape)\n",
    "print(s.shape)\n",
    "print(v.shape)\n",
    "\n",
    "cv2.imshow(\"Lena H Channel\", h)\n",
    "cv2.imshow(\"Lena S Channel\", s)\n",
    "cv2.imshow(\"Lena V Channel\", v)\n",
    "\n",
    "cv2.waitKey(0)\n",
    "cv2.destroyAllWindows()"
   ]
  },
  {
   "cell_type": "markdown",
   "id": "638a8578",
   "metadata": {},
   "source": [
    "- Gaussian Smoothing Kernel"
   ]
  },
  {
   "cell_type": "code",
   "execution_count": 6,
   "id": "4744aa26",
   "metadata": {},
   "outputs": [
    {
     "name": "stdout",
     "output_type": "stream",
     "text": [
      "[[0.00296902 0.01330621 0.02193823 0.01330621 0.00296902]\n",
      " [0.01330621 0.0596343  0.09832033 0.0596343  0.01330621]\n",
      " [0.02193823 0.09832033 0.16210282 0.09832033 0.02193823]\n",
      " [0.01330621 0.0596343  0.09832033 0.0596343  0.01330621]\n",
      " [0.00296902 0.01330621 0.02193823 0.01330621 0.00296902]]\n"
     ]
    }
   ],
   "source": [
    "sm_kernel = gaussian_smoothing_kernel(5, 1)\n",
    "\n",
    "print(sm_kernel)\n",
    "\n",
    "h_sm_convo = apply_convolution(h, sm_kernel)\n",
    "s_sm_convo = apply_convolution(s, sm_kernel)\n",
    "v_sm_convo = apply_convolution(v, sm_kernel)"
   ]
  },
  {
   "cell_type": "code",
   "execution_count": null,
   "id": "162806b7",
   "metadata": {},
   "outputs": [],
   "source": [
    "h_border = h_sm_convo[\"border_img\"]\n",
    "h_raw = h_sm_convo[\"raw_result\"]\n",
    "h_norm = h_sm_convo[\"normalized\"]\n",
    "h_final = h_sm_convo[\"final\"]\n",
    "\n",
    "s_border = s_sm_convo[\"border_img\"]\n",
    "s_raw = s_sm_convo[\"raw_result\"]\n",
    "s_norm = s_sm_convo[\"normalized\"]\n",
    "s_final = s_sm_convo[\"final\"]\n",
    "\n",
    "v_border = v_sm_convo[\"border_img\"]\n",
    "v_raw = v_sm_convo[\"raw_result\"]\n",
    "v_norm = v_sm_convo[\"normalized\"]\n",
    "v_final = v_sm_convo[\"final\"]\n",
    "\n",
    "convo_merge=cv2.merge([h_raw, s_raw, v_raw])\n",
    "merge_norm = cv2.normalize(convo_merge, None, 0, 255, cv2.NORM_MINMAX).astype(np.uint8)\n",
    "hsvtobgr = cv2.cvtColor(merge_norm, cv2.COLOR_HSV2BGR)"
   ]
  },
  {
   "cell_type": "code",
   "execution_count": 23,
   "id": "1ff6cc7f",
   "metadata": {},
   "outputs": [],
   "source": [
    "cv2.imshow(\"HSV Norm\", merge_norm)\n",
    "cv2.imshow(\"HSV to BGR\", hsvtobgr)\n",
    "\n",
    "cv2.waitKey(0)\n",
    "cv2.destroyAllWindows()"
   ]
  },
  {
   "cell_type": "markdown",
   "id": "340f1265",
   "metadata": {},
   "source": [
    "- Sharpening Kernel"
   ]
  },
  {
   "cell_type": "code",
   "execution_count": 24,
   "id": "3494ee83",
   "metadata": {},
   "outputs": [
    {
     "name": "stdout",
     "output_type": "stream",
     "text": [
      "[[ 3.14260486e-04  2.63207757e-03  8.57902057e-03  1.23763620e-02\n",
      "   8.57902057e-03  2.63207757e-03  3.14260486e-04]\n",
      " [ 2.63207757e-03  1.74901468e-02  3.91926999e-02  4.30785586e-02\n",
      "   3.91926999e-02  1.74901468e-02  2.63207757e-03]\n",
      " [ 8.57902057e-03  3.91926999e-02 -0.00000000e+00 -9.65323526e-02\n",
      "  -0.00000000e+00  3.91926999e-02  8.57902057e-03]\n",
      " [ 1.23763620e-02  4.30785586e-02 -9.65323526e-02 -3.18309886e-01\n",
      "  -9.65323526e-02  4.30785586e-02  1.23763620e-02]\n",
      " [ 8.57902057e-03  3.91926999e-02 -0.00000000e+00 -9.65323526e-02\n",
      "  -0.00000000e+00  3.91926999e-02  8.57902057e-03]\n",
      " [ 2.63207757e-03  1.74901468e-02  3.91926999e-02  4.30785586e-02\n",
      "   3.91926999e-02  1.74901468e-02  2.63207757e-03]\n",
      " [ 3.14260486e-04  2.63207757e-03  8.57902057e-03  1.23763620e-02\n",
      "   8.57902057e-03  2.63207757e-03  3.14260486e-04]]\n"
     ]
    }
   ],
   "source": [
    "sh_kernel = sharpening_kernel(7, 1)\n",
    "\n",
    "print(sh_kernel)\n",
    "\n",
    "sh_h_convo = apply_convolution(h, sh_kernel)\n",
    "sh_s_convo = apply_convolution(s, sh_kernel)\n",
    "sh_v_convo = apply_convolution(v, sh_kernel)"
   ]
  },
  {
   "cell_type": "code",
   "execution_count": 25,
   "id": "5be5d933",
   "metadata": {},
   "outputs": [],
   "source": [
    "h_border_sh = sh_h_convo[\"border_img\"]\n",
    "h_raw_sh = sh_h_convo[\"raw_result\"]\n",
    "h_norm_sh = sh_h_convo[\"normalized\"]\n",
    "h_final_sh = sh_h_convo[\"final\"]\n",
    "\n",
    "s_border_sh = sh_s_convo[\"border_img\"]\n",
    "s_raw_sh = sh_s_convo[\"raw_result\"]\n",
    "s_norm_sh = sh_s_convo[\"normalized\"]\n",
    "s_final_sh = sh_s_convo[\"final\"]\n",
    "\n",
    "v_border_sh = sh_v_convo[\"border_img\"]\n",
    "v_raw_sh = sh_v_convo[\"raw_result\"]\n",
    "v_norm_sh = sh_v_convo[\"normalized\"]\n",
    "v_final_sh = sh_v_convo[\"final\"]\n",
    "\n",
    "hsv_sh_merge = cv2.merge([h_raw_sh, s_raw_sh, v_raw_sh])\n",
    "hsv_sh_merge_norm = cv2.normalize(hsv_sh_merge, None, 0, 255, cv2.NORM_MINMAX).astype(np.uint8)\n",
    "hsv_sh_back = cv2.cvtColor(hsv_sh_merge_norm, cv2.COLOR_HSV2BGR)\n"
   ]
  },
  {
   "cell_type": "code",
   "execution_count": 26,
   "id": "72d0068c",
   "metadata": {},
   "outputs": [],
   "source": [
    "cv2.imshow(\"Original HSV\", lena_hsv)\n",
    "cv2.imshow(\"Norm Sharp\", hsv_sh_merge_norm)\n",
    "cv2.imshow(\"Final HSVtoBGR Sharp\", hsv_sh_back)\n",
    "\n",
    "cv2.waitKey(0)\n",
    "cv2.destroyAllWindows()"
   ]
  }
 ],
 "metadata": {
  "kernelspec": {
   "display_name": "imgenv (3.12.4)",
   "language": "python",
   "name": "python3"
  },
  "language_info": {
   "codemirror_mode": {
    "name": "ipython",
    "version": 3
   },
   "file_extension": ".py",
   "mimetype": "text/x-python",
   "name": "python",
   "nbconvert_exporter": "python",
   "pygments_lexer": "ipython3",
   "version": "3.12.4"
  }
 },
 "nbformat": 4,
 "nbformat_minor": 5
}
