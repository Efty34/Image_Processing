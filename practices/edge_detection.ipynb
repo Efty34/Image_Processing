{
 "cells": [
  {
   "cell_type": "code",
   "execution_count": 1,
   "id": "11a1c08b",
   "metadata": {},
   "outputs": [],
   "source": [
    "import cv2\n",
    "import numpy as np\n",
    "import matplotlib.pyplot as plt\n",
    "import image_lib as imlib"
   ]
  },
  {
   "cell_type": "markdown",
   "id": "3d8fc972",
   "metadata": {},
   "source": [
    "## Gradient Method"
   ]
  },
  {
   "cell_type": "code",
   "execution_count": 4,
   "id": "04713c64",
   "metadata": {},
   "outputs": [],
   "source": [
    "lena = cv2.imread(\"../Lab_1/assets/Lena.jpg\", 0)\n",
    "\n",
    "cv2.imshow(\"Lena\", lena)\n",
    "\n",
    "cv2.waitKey(0)\n",
    "cv2.destroyAllWindows()"
   ]
  },
  {
   "cell_type": "markdown",
   "id": "bea8438a",
   "metadata": {},
   "source": [
    "- Sobel Kernel"
   ]
  },
  {
   "cell_type": "code",
   "execution_count": 3,
   "id": "82d78da3",
   "metadata": {},
   "outputs": [],
   "source": [
    "gx = np.array([[-1, 0, 1], [-1, 0, 1], [-1, 0, 1]])\n",
    "gy = np.array([[-1, -1, -1], [0, 0, 0], [1, 1,1]])"
   ]
  },
  {
   "cell_type": "code",
   "execution_count": 4,
   "id": "bbfd6005",
   "metadata": {},
   "outputs": [],
   "source": [
    "gx_convolved = cv2.filter2D(lena, -1, gx)\n",
    "gy_convolved = cv2.filter2D(lena, -1, gy)\n",
    "\n",
    "cv2.imshow(\"Gradient X\", gx_convolved)\n",
    "cv2.imshow(\"Gradient Y\", gy_convolved)\n",
    "\n",
    "cv2.waitKey(0)\n",
    "cv2.destroyAllWindows()"
   ]
  },
  {
   "cell_type": "code",
   "execution_count": 5,
   "id": "ba680f85",
   "metadata": {},
   "outputs": [],
   "source": [
    "gxc_float = gx_convolved.astype(np.float64)\n",
    "gyc_float = gy_convolved.astype(np.float64)\n",
    "magnitude = np.sqrt(gxc_float**2 + gyc_float**2)\n",
    "\n",
    "magnitude_norm = cv2.normalize(magnitude, None, 0, 255, cv2.NORM_MINMAX).astype(np.uint8)\n",
    "\n",
    "cv2.imshow(\"Gradient Magnitude\", magnitude_norm)\n",
    "\n",
    "cv2.waitKey(0)\n",
    "cv2.destroyAllWindows()"
   ]
  },
  {
   "cell_type": "markdown",
   "id": "6ab6e340",
   "metadata": {},
   "source": [
    "- Standard Thresholding"
   ]
  },
  {
   "cell_type": "code",
   "execution_count": 6,
   "id": "c647f0e1",
   "metadata": {},
   "outputs": [],
   "source": [
    "# Manual Implementation\n",
    "def manual_binary_threshold(image, threshold_value):\n",
    "    binary_image = np.zeros_like(image)\n",
    "    pixels_above_threshold = image > threshold_value\n",
    "    binary_image[pixels_above_threshold] = 255\n",
    "    \n",
    "    return binary_image"
   ]
  },
  {
   "cell_type": "code",
   "execution_count": 7,
   "id": "ae96ae1f",
   "metadata": {},
   "outputs": [],
   "source": [
    "threshold_value = 50 \n",
    "# Using OpenCV's threshold function\n",
    "_, binary_edges = cv2.threshold(magnitude_norm, threshold_value, 255, cv2.THRESH_BINARY)\n",
    "# Using a manual thresholding function\n",
    "binary_edges_2 = manual_binary_threshold(magnitude_norm, threshold_value)\n",
    "\n",
    "cv2.imshow(\"Binary Edges\", binary_edges)\n",
    "cv2.imshow(\"Binary Edges 2\", binary_edges_2)\n",
    "\n",
    "cv2.waitKey(0)\n",
    "cv2.destroyAllWindows()"
   ]
  },
  {
   "cell_type": "markdown",
   "id": "54829014",
   "metadata": {},
   "source": [
    "- Hysteresis Thresholding "
   ]
  },
  {
   "cell_type": "code",
   "execution_count": 8,
   "id": "9b265709",
   "metadata": {},
   "outputs": [],
   "source": [
    "def manual_hysteresis_thresholding(image, low_thresh, high_thresh):\n",
    "    \"\"\"\n",
    "    Manually performs hysteresis thresholding using NumPy.\n",
    "\n",
    "    Args:\n",
    "        image (numpy.ndarray): The input gradient magnitude image.\n",
    "        low_thresh (int): The low threshold for classifying weak pixels.\n",
    "        high_thresh (int): The high threshold for classifying strong pixels.\n",
    "\n",
    "    Returns:\n",
    "        numpy.ndarray: The final binary edge map.\n",
    "    \"\"\"\n",
    "    # --- 1. Double Thresholding ---\n",
    "    # Define values for strong and weak pixels\n",
    "    strong_pixel_val = 255\n",
    "    weak_pixel_val = 75\n",
    "\n",
    "    # Create an output image to store the results\n",
    "    output = np.zeros_like(image, dtype=np.uint8)\n",
    "\n",
    "    # Find coordinates of strong and weak pixels using boolean indexing\n",
    "    strong_pixels = image >= high_thresh\n",
    "    weak_pixels = (image <= high_thresh) & (image >= low_thresh)\n",
    "\n",
    "    # Assign strong and weak values to the output image\n",
    "    output[strong_pixels] = strong_pixel_val\n",
    "    output[weak_pixels] = weak_pixel_val\n",
    "\n",
    "    # --- 2. Edge Tracking by Hysteresis ---\n",
    "    rows, cols = image.shape\n",
    "    # Iterate through the image to connect weak pixels to strong ones\n",
    "    # We iterate multiple times to allow chains of weak pixels to connect\n",
    "    for _ in range(5): # Iterate a few times to propagate connections\n",
    "        for r in range(1, rows - 1):\n",
    "            for c in range(1, cols - 1):\n",
    "                # If the current pixel is a weak pixel\n",
    "                if output[r, c] == weak_pixel_val:\n",
    "                    # Check its 8-pixel neighborhood\n",
    "                    neighborhood = output[r-1:r+2, c-1:c+2]\n",
    "                    # If any neighbor is a strong pixel, promote the current weak pixel\n",
    "                    if np.max(neighborhood) == strong_pixel_val:\n",
    "                        output[r, c] = strong_pixel_val\n",
    "\n",
    "    # --- 3. Cleanup ---\n",
    "    # Set any remaining weak pixels that were not connected to 0\n",
    "    output[output == weak_pixel_val] = 0\n",
    "    \n",
    "    return output"
   ]
  },
  {
   "cell_type": "code",
   "execution_count": 9,
   "id": "0596d831",
   "metadata": {},
   "outputs": [],
   "source": [
    "low_threshold = 30\n",
    "high_threshold = 100\n",
    "hysteresis_edges = manual_hysteresis_thresholding(magnitude_norm, low_threshold, high_threshold)\n",
    "\n",
    "cv2.imshow(\"Hysteresis Edges\", hysteresis_edges)\n",
    "\n",
    "cv2.waitKey(0)\n",
    "cv2.destroyAllWindows()\n"
   ]
  },
  {
   "cell_type": "markdown",
   "id": "0d5a92f3",
   "metadata": {},
   "source": [
    "## Laplacian Method"
   ]
  },
  {
   "cell_type": "code",
   "execution_count": 10,
   "id": "0a7ca2df",
   "metadata": {},
   "outputs": [],
   "source": [
    "lena = cv2.imread(\"../Lab_1/assets/Lena.jpg\", 0)\n",
    "\n",
    "cv2.imshow(\"Lena\", lena)\n",
    "\n",
    "cv2.waitKey(0)\n",
    "cv2.destroyAllWindows()"
   ]
  },
  {
   "cell_type": "markdown",
   "id": "923d5a9d",
   "metadata": {},
   "source": [
    "- Manual Implementation"
   ]
  },
  {
   "cell_type": "code",
   "execution_count": 11,
   "id": "2f40f971",
   "metadata": {},
   "outputs": [],
   "source": [
    "def manual_laplacian_edge_detection(image, kernel, threshold_value=10):\n",
    "    \"\"\"\n",
    "    Manually applies the Laplacian operator using a specified kernel.\n",
    "\n",
    "    Args:\n",
    "        image (numpy.ndarray): The input grayscale image.\n",
    "        kernel (numpy.ndarray): The Laplacian kernel to apply.\n",
    "        threshold_value (int): The threshold to create the final binary map.\n",
    "\n",
    "    Returns:\n",
    "        tuple: A tuple containing the raw Laplacian response and the thresholded edges.\n",
    "    \"\"\"\n",
    "    # --- 1. Noise Reduction (Crucial for Laplacian) ---\n",
    "    blurred = cv2.GaussianBlur(image, (5, 5), 0)\n",
    "\n",
    "    # --- 2. Manual Convolution ---\n",
    "    # Apply the user-defined kernel using cv2.filter2D\n",
    "    # cv2.CV_64F is used to handle negative values in the output\n",
    "    laplacian_response = cv2.filter2D(src=blurred, ddepth=cv2.CV_64F, kernel=kernel)\n",
    "\n",
    "    # --- 3. Process Output for Display and Thresholding ---\n",
    "    # Take the absolute value to see the magnitude of the response\n",
    "    abs_laplacian = np.absolute(laplacian_response)\n",
    "    \n",
    "    # Convert to an 8-bit image for display\n",
    "    laplacian_display = cv2.convertScaleAbs(abs_laplacian)\n",
    "    \n",
    "    # Create the final binary edge map by thresholding\n",
    "    _, binary_edges = cv2.threshold(laplacian_display, threshold_value, 255, cv2.THRESH_BINARY)\n",
    "    \n",
    "    return laplacian_display, binary_edges"
   ]
  },
  {
   "cell_type": "markdown",
   "id": "2958c677",
   "metadata": {},
   "source": [
    "- Robust Laplacian"
   ]
  },
  {
   "cell_type": "code",
   "execution_count": 12,
   "id": "fdf09053",
   "metadata": {},
   "outputs": [],
   "source": [
    "laplacian_kernel = np.array([\n",
    "    [1,  1,  1],\n",
    "    [1, -8,  1],\n",
    "    [1,  1,  1]\n",
    "], dtype=np.float32)\n",
    "\n",
    "laplacian_result, final_edges = manual_laplacian_edge_detection(lena, laplacian_kernel)\n",
    "\n",
    "cv2.imshow(\"Laplacian\", laplacian_result)\n",
    "cv2.imshow(\"Final Edges\", final_edges)\n",
    "\n",
    "cv2.waitKey(0)\n",
    "cv2.destroyAllWindows()"
   ]
  },
  {
   "cell_type": "markdown",
   "id": "52eef980",
   "metadata": {},
   "source": [
    "- Library Implementation"
   ]
  },
  {
   "cell_type": "code",
   "execution_count": 13,
   "id": "9615cb71",
   "metadata": {},
   "outputs": [],
   "source": [
    "# This is crucial to reduce noise before applying the Laplacian\n",
    "blurred = cv2.GaussianBlur(lena, (5, 5), 0)\n",
    "\n",
    "laplacian = cv2.Laplacian(blurred, cv2.CV_64F)\n",
    "\n",
    "laplacian_display = cv2.convertScaleAbs(laplacian)\n",
    "\n",
    "_, edges = cv2.threshold(laplacian_display, 10, 255, cv2.THRESH_BINARY)\n",
    "\n",
    "cv2.imshow(\"Laplacian\", laplacian)\n",
    "cv2.imshow(\"Laplacian Display\", laplacian_display)\n",
    "cv2.imshow(\"Laplacian Edges\", edges)\n",
    "\n",
    "cv2.waitKey(0)\n",
    "cv2.destroyAllWindows()"
   ]
  },
  {
   "cell_type": "markdown",
   "id": "fbad3711",
   "metadata": {},
   "source": [
    "## Canny Method"
   ]
  },
  {
   "cell_type": "code",
   "execution_count": 27,
   "id": "1653c254",
   "metadata": {},
   "outputs": [],
   "source": [
    "lena = cv2.imread(\"../Lab_1/assets/Lena.jpg\", 0)\n",
    "\n",
    "cv2.imshow(\"Lena\", lena)\n",
    "\n",
    "cv2.waitKey(0)\n",
    "cv2.destroyAllWindows()"
   ]
  },
  {
   "cell_type": "markdown",
   "id": "4eed1614",
   "metadata": {},
   "source": [
    "- Using Library"
   ]
  },
  {
   "cell_type": "code",
   "execution_count": 28,
   "id": "e0a5c301",
   "metadata": {},
   "outputs": [],
   "source": [
    "blurred = cv2.GaussianBlur(lena, (5, 5), 0)\n",
    "\n",
    "low_threshold = 50\n",
    "high_threshold = 150\n",
    "\n",
    "edges = cv2.Canny(image=blurred, threshold1=low_threshold, threshold2=high_threshold)\n",
    "\n",
    "cv2.imshow(\"Canny Edges\", edges)\n",
    "cv2.waitKey(0)\n",
    "cv2.destroyAllWindows()"
   ]
  },
  {
   "cell_type": "markdown",
   "id": "a4969eee",
   "metadata": {},
   "source": [
    "- Manual Implementation"
   ]
  },
  {
   "cell_type": "code",
   "execution_count": 29,
   "id": "3c7815e8",
   "metadata": {},
   "outputs": [],
   "source": [
    "def create_gaussian_kernel(sigma=1, size=None):\n",
    "    if size is None:\n",
    "        size = int(6 * sigma) + 1  # Kernel size should be odd\n",
    "        if size % 2 == 0:\n",
    "            size += 1\n",
    "            \n",
    "    kernel = np.zeros((size, size))\n",
    "    center = size // 2\n",
    "    for i in range(size):\n",
    "        for j in range(size):\n",
    "            x, y = i - center, j - center\n",
    "            kernel[i, j] = (1 / (2 * np.pi * sigma**2)) * np.exp(-(x**2 + y**2) / (2 * sigma**2))\n",
    "    return kernel / np.sum(kernel)"
   ]
  },
  {
   "cell_type": "code",
   "execution_count": 30,
   "id": "9a25b1c5",
   "metadata": {},
   "outputs": [],
   "source": [
    "def convolve2d(image, kernel):\n",
    "    k_h, k_w = kernel.shape\n",
    "    pad_h, pad_w = k_h // 2, k_w // 2\n",
    "    \n",
    "    padded_image = np.pad(image, ((pad_h, pad_h), (pad_w, pad_w)), mode='edge')\n",
    "    output = np.zeros_like(image)\n",
    "\n",
    "    for i in range(image.shape[0]):\n",
    "        for j in range(image.shape[1]):\n",
    "            output[i, j] = np.sum(kernel * padded_image[i:i+k_h, j:j+k_w])\n",
    "            \n",
    "    return output"
   ]
  },
  {
   "cell_type": "code",
   "execution_count": 31,
   "id": "4da51803",
   "metadata": {},
   "outputs": [],
   "source": [
    "def non_maximum_suppression(magnitude, direction):\n",
    "    \"\"\"\n",
    "    Perform non-maximum suppression on gradient magnitude using gradient direction.\n",
    "    \"\"\"\n",
    "    M, N = magnitude.shape\n",
    "    suppressed = np.zeros((M, N), dtype=np.float32)\n",
    "    angle = np.rad2deg(direction) % 180\n",
    "\n",
    "    for i in range(1, M-1):\n",
    "        for j in range(1, N-1):\n",
    "            try:\n",
    "                q = 0  # Initialize to 0 instead of 255\n",
    "                r = 0\n",
    "                \n",
    "                # Angle 0 degrees (horizontal edge)\n",
    "                if (0 <= angle[i, j] < 22.5) or (157.5 <= angle[i, j] <= 180):\n",
    "                    q = magnitude[i, j+1]\n",
    "                    r = magnitude[i, j-1]\n",
    "                # Angle 45 degrees (diagonal edge)\n",
    "                elif 22.5 <= angle[i, j] < 67.5:\n",
    "                    q = magnitude[i+1, j-1]\n",
    "                    r = magnitude[i-1, j+1]\n",
    "                # Angle 90 degrees (vertical edge)\n",
    "                elif 67.5 <= angle[i, j] < 112.5:\n",
    "                    q = magnitude[i+1, j]\n",
    "                    r = magnitude[i-1, j]\n",
    "                # Angle 135 degrees (diagonal edge)\n",
    "                elif 112.5 <= angle[i, j] < 157.5:\n",
    "                    q = magnitude[i-1, j-1]\n",
    "                    r = magnitude[i+1, j+1]\n",
    "\n",
    "                if magnitude[i, j] >= q and magnitude[i, j] >= r:\n",
    "                    suppressed[i, j] = magnitude[i, j]\n",
    "                else:\n",
    "                    suppressed[i, j] = 0\n",
    "\n",
    "            except IndexError:\n",
    "                pass\n",
    "                \n",
    "    return suppressed"
   ]
  },
  {
   "cell_type": "code",
   "execution_count": 32,
   "id": "bc593936",
   "metadata": {},
   "outputs": [],
   "source": [
    "def manual_canny(image, sigma=1, low_threshold_ratio=0.05, high_threshold_ratio=0.15):\n",
    "    \"\"\"\n",
    "    A manual implementation of the Canny edge detector.\n",
    "    \n",
    "    Args:\n",
    "        image (numpy.ndarray): Input grayscale image.\n",
    "        sigma (float): Standard deviation for the Gaussian kernel.\n",
    "        low_threshold_ratio (float): Ratio for the low hysteresis threshold.\n",
    "        high_threshold_ratio (float): Ratio for the high hysteresis threshold.\n",
    "        \n",
    "    Returns:\n",
    "        numpy.ndarray: The final binary edge map.\n",
    "    \"\"\"\n",
    "    # Ensure input is float for calculations\n",
    "    if image is None:\n",
    "        raise ValueError(\"Input image is None\")\n",
    "    \n",
    "    image = image.astype(np.float64)\n",
    "    \n",
    "    # --- Step 1: Noise Reduction with Gaussian Blur ---\n",
    "    gaussian_kernel = create_gaussian_kernel(sigma)\n",
    "    blurred_image = convolve2d(image, gaussian_kernel)\n",
    "\n",
    "    # --- Step 2: Gradient Calculation (Sobel) ---\n",
    "    sobel_x_kernel = np.array([[-1, 0, 1], [-2, 0, 2], [-1, 0, 1]], dtype=np.float32)\n",
    "    sobel_y_kernel = np.array([[-1, -2, -1], [0, 0, 0], [1, 2, 1]], dtype=np.float32)\n",
    "    \n",
    "    gradient_x = convolve2d(blurred_image, sobel_x_kernel)\n",
    "    gradient_y = convolve2d(blurred_image, sobel_y_kernel)\n",
    "\n",
    "    gradient_magnitude = np.sqrt(gradient_x**2 + gradient_y**2)\n",
    "    gradient_direction = np.arctan2(gradient_y, gradient_x)\n",
    "    \n",
    "    # Handle NaN and infinite values\n",
    "    gradient_magnitude = np.nan_to_num(gradient_magnitude)\n",
    "    gradient_direction = np.nan_to_num(gradient_direction)\n",
    "\n",
    "    # --- Step 3: Non-Maximum Suppression ---\n",
    "    suppressed_image = non_maximum_suppression(gradient_magnitude, gradient_direction)\n",
    "\n",
    "    # --- Step 4 & 5: Double Thresholding and Hysteresis ---\n",
    "    max_val = np.max(suppressed_image)\n",
    "    if max_val > 0:\n",
    "        high_thresh = high_threshold_ratio * max_val\n",
    "        low_thresh = low_threshold_ratio * max_val\n",
    "    else:\n",
    "        high_thresh = 1\n",
    "        low_thresh = 0.5\n",
    "    \n",
    "    # Apply hysteresis thresholding\n",
    "    final_edges = manual_hysteresis_thresholding(suppressed_image, low_thresh, high_thresh)\n",
    "\n",
    "    return final_edges"
   ]
  },
  {
   "cell_type": "code",
   "execution_count": null,
   "id": "cc9bfcb4",
   "metadata": {},
   "outputs": [],
   "source": [
    "manual_canny_img = manual_canny(lena)"
   ]
  },
  {
   "cell_type": "code",
   "execution_count": 36,
   "id": "58132f08",
   "metadata": {},
   "outputs": [],
   "source": [
    "cv2.imshow(\"Library Canny Edges\", edges)\n",
    "cv2.imshow(\"Manual Canny Edges\", manual_canny_img)\n",
    "\n",
    "cv2.waitKey(0)\n",
    "cv2.destroyAllWindows()"
   ]
  },
  {
   "cell_type": "markdown",
   "id": "7d3b157c",
   "metadata": {},
   "source": [
    "- Lab Practise"
   ]
  },
  {
   "cell_type": "code",
   "execution_count": null,
   "id": "23a7a58f",
   "metadata": {},
   "outputs": [],
   "source": [
    "lena2 = cv2.imread(\"../Lab_1/assets/Lena.jpg\", 1)\n",
    "\n",
    "def laplacian_of_gaussian(image, sigma=1.0):\n",
    "    gray_image = cv2.cvtColor(image , cv2.COLOR_BGR2GRAY)\n",
    "    kernel = imlib.Gaussian_Sharpenning_kernel(7,sigma)\n",
    "    log_img = imlib.convolve(gray_image,kernel)\n",
    "    return log_img\n",
    "\n",
    "def zero_crossing(log_img):\n",
    "    zc = np.zeros(log_img.shape, dtype=np.uint8)\n",
    "    h,w = log_img.shape\n",
    "    for i in range(1, h-2):\n",
    "        for j in range(1, w-2):\n",
    "            patch = log_img[i-1:i+2, j-1:j+2]\n",
    "            local_std = np.std(patch)\n",
    "            if np.max(patch) > 0 and np.min(patch) < 0:\n",
    "                zc[i, j] = log_img[i,j]\n",
    "                \n",
    "    return zc\n",
    "\n",
    "def local_variance(image, ksize=5):\n",
    "    mean = cv2.blur(image, (ksize, ksize))\n",
    "    mean_sq = cv2.blur(image**2, (ksize, ksize))\n",
    "    variance = mean_sq - mean**2\n",
    "    return variance\n",
    "\n",
    "def robust_laplacian_edge_detector(image, sigma=1.0, var_thresh=100):\n",
    "    log_img = laplacian_of_gaussian(image, sigma)\n",
    "    zc_img = zero_crossing(log_img)\n",
    "    imlib.show_image(zc_img, 'Zero Crossing Image')\n",
    "    gray = cv2.cvtColor(image, cv2.COLOR_BGR2GRAY)\n",
    "    variance = local_variance(gray, ksize=5)\n",
    "    edge_img = np.zeros_like(zc_img)\n",
    "    edge_img[(zc_img == 255) & (variance > var_thresh)] = 255\n",
    "    return edge_img\n",
    "\n",
    "edge_points = robust_laplacian_edge_detector(lena2, sigma=1, var_thresh=160)\n",
    "imlib.show_image(edge_points, 'Robust Laplacian Edge Detector')"
   ]
  },
  {
   "cell_type": "code",
   "execution_count": 14,
   "id": "c154ad83",
   "metadata": {},
   "outputs": [],
   "source": [
    "# Robust Laplacian-based Edge Detector Implementation following slides exactly\n",
    "\n",
    "def laplacian_of_gaussian_slides(image, sigma=1.0):\n",
    "    \"\"\"Apply LoG operator as shown in slides\"\"\"\n",
    "    gray_image = cv2.cvtColor(image, cv2.COLOR_BGR2GRAY)\n",
    "    kernel = imlib.Gaussian_Sharpenning_kernel(7, sigma)\n",
    "    log_img = imlib.convolve(gray_image, kernel)\n",
    "    return log_img\n",
    "\n",
    "def zero_crossing_detection_slides(log_img):\n",
    "    \"\"\"Zero crossing detection following slide example\"\"\"\n",
    "    h, w = log_img.shape\n",
    "    zc = np.zeros((h, w), dtype=np.uint8)\n",
    "    \n",
    "    for i in range(1, h-1):\n",
    "        for j in range(1, w-1):\n",
    "            # Extract 3x3 local region\n",
    "            local_region = log_img[i-1:i+2, j-1:j+2]\n",
    "            \n",
    "            # Check for zero crossing (min < 0 and max > 0)\n",
    "            min_val = np.min(local_region)\n",
    "            max_val = np.max(local_region)\n",
    "            \n",
    "            if min_val < 0 and max_val > 0:\n",
    "                zc[i, j] = log_img[i, j]\n",
    "    \n",
    "    return zc\n",
    "\n",
    "def region_of_interest_std(log_img, threshold=2.0):\n",
    "    \"\"\"Apply standard deviation check in region of interest\"\"\"\n",
    "    h, w = log_img.shape\n",
    "    roi_mask = np.zeros((h, w), dtype=np.uint8)\n",
    "    pad = 1\n",
    "    \n",
    "    for i in range(pad, h-pad):\n",
    "        for j in range(pad, w-pad):\n",
    "            # Extract local region as shown in slides\n",
    "            local_region = log_img[i-pad:i+pad+1, j-pad:j+pad+1]\n",
    "            local_stddev = np.std(local_region)\n",
    "            \n",
    "            if local_stddev > threshold:\n",
    "                roi_mask[i, j] = 255\n",
    "    \n",
    "    return roi_mask\n",
    "\n",
    "def estimate_local_variance_slides(image, ksize=5):\n",
    "    \"\"\"Estimate local variance (σ²)\"\"\"\n",
    "    gray = cv2.cvtColor(image, cv2.COLOR_BGR2GRAY) if len(image.shape) == 3 else image\n",
    "    mean = cv2.blur(gray.astype(np.float64), (ksize, ksize))\n",
    "    mean_sq = cv2.blur((gray.astype(np.float64))**2, (ksize, ksize))\n",
    "    variance = mean_sq - mean**2\n",
    "    return variance\n",
    "\n",
    "def robust_laplacian_slides(image, sigma=1.0, var_thresh=60):\n",
    "    \"\"\"Complete Robust Laplacian following algorithm flowchart\"\"\"\n",
    "    \n",
    "    # Step 1: Apply LoG operator\n",
    "    log_response = laplacian_of_gaussian_slides(image, sigma)\n",
    "    \n",
    "    # Step 2: Zero crossing detection\n",
    "    zero_crossings = zero_crossing_detection_slides(log_response)\n",
    "\n",
    "    # Show zero crossing image\n",
    "    imlib.show_image(zero_crossings, 'Zero Crossings')\n",
    "    \n",
    "    # Step 3: Estimate local variance\n",
    "    local_variance = estimate_local_variance_slides(image, ksize=5)\n",
    "    \n",
    "    # Step 4: Apply thresholding (σ² > threshold)\n",
    "    final_edges = np.zeros_like(zero_crossings)\n",
    "    final_edges[(zero_crossings == 255) & (local_variance > var_thresh)] = 255\n",
    "    \n",
    "    return final_edges\n",
    "\n",
    "# Test with σ² > 60\n",
    "lena2 = cv2.imread(\"../Lab_1/assets/Lena.jpg\", 1)\n",
    "edges_60 = robust_laplacian_slides(lena2, sigma=1.0, var_thresh=60)\n",
    "\n",
    "imlib.show_image(edges_60, 'Robust Laplacian (σ² > 60)')"
   ]
  }
 ],
 "metadata": {
  "kernelspec": {
   "display_name": "imgenv (3.12.4)",
   "language": "python",
   "name": "python3"
  },
  "language_info": {
   "codemirror_mode": {
    "name": "ipython",
    "version": 3
   },
   "file_extension": ".py",
   "mimetype": "text/x-python",
   "name": "python",
   "nbconvert_exporter": "python",
   "pygments_lexer": "ipython3",
   "version": "3.12.4"
  }
 },
 "nbformat": 4,
 "nbformat_minor": 5
}
